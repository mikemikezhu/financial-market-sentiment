{
  "nbformat": 4,
  "nbformat_minor": 0,
  "metadata": {
    "colab": {
      "name": "market_sentiment.ipynb",
      "provenance": [],
      "collapsed_sections": [],
      "toc_visible": true
    },
    "kernelspec": {
      "name": "python3",
      "display_name": "Python 3"
    },
    "accelerator": "GPU"
  },
  "cells": [
    {
      "cell_type": "markdown",
      "metadata": {
        "id": "1XWol3O3d7ve",
        "colab_type": "text"
      },
      "source": [
        "# Quantitative Trading Model based on Financial Market Sentiment / 基于市场情绪平稳度的量化交易模型"
      ]
    },
    {
      "cell_type": "markdown",
      "metadata": {
        "id": "atGDAH6XeWKV",
        "colab_type": "text"
      },
      "source": [
        "## Abstract / 概要"
      ]
    },
    {
      "cell_type": "markdown",
      "metadata": {
        "id": "b2TRuuiteXlv",
        "colab_type": "text"
      },
      "source": [
        "Based on the Efficient-market hypothesis (EFH), the stock price reflects all the available information, such as the piece of news published in a newspaper, which makes it extremely hard to predict the stock trend. This notebook has introduced a quantitative trading model based on financial market sentiment."
      ]
    },
    {
      "cell_type": "markdown",
      "metadata": {
        "id": "JQRTnHTgWCZM",
        "colab_type": "text"
      },
      "source": [
        "根据有效市场假说（EFH），股票指数的涨跌会受到新闻消息的刺激，从而使得较长期的股票指数预测较为困难。为了解决此问题，本文构建一个基于市场情绪平稳度的量化交易模型。"
      ]
    },
    {
      "cell_type": "markdown",
      "metadata": {
        "id": "pxVBBgVjeYOy",
        "colab_type": "text"
      },
      "source": [
        "## Methodology / 方法"
      ]
    },
    {
      "cell_type": "markdown",
      "metadata": {
        "id": "r-mTAcJYWqmc",
        "colab_type": "text"
      },
      "source": [
        "### Data Preparation / 数据准备"
      ]
    },
    {
      "cell_type": "markdown",
      "metadata": {
        "id": "EmCop2IOX6V9",
        "colab_type": "text"
      },
      "source": [
        "First and foremost, we will declare the constants to be used for the quantitative trading model, which are demonstrated as follows.\n",
        "- `OBSERVATION_WINDOW_SIZE`: The observation window size is the period of time which is used to estimate the financial market sentiment. Based on the research, we will choose the first 50 min after the market is open as the observation window size.\n",
        "- `MARKET_SENTIMENT_THRESHOLD`: The market sentiment threshold is defined as a standard of the volatility of the stock market. Specifically, if the market sentiment is larger than the threshold, then we can say that the stock market is volatile. Otherwise, the stock market is considered to be stable, and suitable for further transactions.\n",
        "- `STOP_LOSS_THRESHOLD`: The stop-loss threshold is defined as a standard showing whether an action shall be performed to stop-loss. Specifically, if the stop-loss ratio is larger than the threshold, then we shall sell the stock to stop-loss. Otherwise, we may hold the stock until the market is closed."
      ]
    },
    {
      "cell_type": "markdown",
      "metadata": {
        "id": "jrLUVEc6ahPv",
        "colab_type": "text"
      },
      "source": [
        "首先，我们需要定义量化交易模型所需的常量。\n",
        "- `OBSERVATION_WINDOW_SIZE`: 观察窗口用来判断当前市场情绪平稳度。根据经验调查，我们选取开盘之后的50分钟作为观察窗口。\n",
        "- `MARKET_SENTIMENT_THRESHOLD`: 市场情绪平稳度阈值用来描述市场的趋势相对于噪声的程度，即平稳度，从而判断当日是否具有开仓条件。例如，若市场情绪平稳度指标小于阈值，则说明当日行情趋势明显，可以开仓。若情绪平稳度指标大于阈值，则说明当日行情震荡，趋势难以把握，从而放弃开仓。\n",
        "- `STOP_LOSS_THRESHOLD`: 止损阈值用来描述是否需要采取措施平仓止损。例如，若开盘之后损失超过止损阈值，则选择平仓止损，反之则 一直持有仓位至收盘平仓。"
      ]
    },
    {
      "cell_type": "code",
      "metadata": {
        "id": "jj2aeL13wJU8",
        "colab_type": "code",
        "colab": {}
      },
      "source": [
        "\"\"\"\n",
        "Constants\n",
        "\"\"\"\n",
        "# 情绪平稳度观察窗口 Observation window size after market open\n",
        "OBSERVATION_WINDOW_SIZE = 200\n",
        "\n",
        "# 情绪平稳度阈值 Market sentiment threshold\n",
        "# If market sentiment >= threshold, then the stock market is volatile\n",
        "# If market sentiment < threshold, then the stock market is stable\n",
        "MARKET_SENTIMENT_THRESHOLD = 0.0009\n",
        "\n",
        "# 止损阈值 Stop-loss threshold\n",
        "# If loss >= threshold, then sell the stock to stop-loss\n",
        "# If loss < threshold, then hold the stock until market close\n",
        "STOP_LOSS_THRESHOLD = 0.05"
      ],
      "execution_count": 0,
      "outputs": []
    },
    {
      "cell_type": "markdown",
      "metadata": {
        "id": "jFCXZEiccs8X",
        "colab_type": "text"
      },
      "source": [
        "Then, let's create some fake stock price data for demonstration purpose, and show the data in the diagram below."
      ]
    },
    {
      "cell_type": "markdown",
      "metadata": {
        "id": "YdzX0RI1c8aT",
        "colab_type": "text"
      },
      "source": [
        "其次，为了演示目的，我们创建一些假的股票数据，并且用以下图表展示出来。"
      ]
    },
    {
      "cell_type": "code",
      "metadata": {
        "id": "nLaSYbHLs8Nd",
        "colab_type": "code",
        "colab": {
          "base_uri": "https://localhost:8080/",
          "height": 281
        },
        "outputId": "875bdaaa-0ad8-4a43-de03-ca05a0388cba"
      },
      "source": [
        "import matplotlib.pyplot as plt\n",
        "import numpy as np\n",
        "\n",
        "# Create fake stock price data\n",
        "np.random.seed(1)\n",
        "a = np.random.randn(1000)\n",
        "prices = np.cumsum(a) + 100\n",
        "\n",
        "# Show diagram\n",
        "plt.title('Stock price diagram')\n",
        "plt.plot(prices)\n",
        "plt.show()"
      ],
      "execution_count": 2,
      "outputs": [
        {
          "output_type": "display_data",
          "data": {
            "image/png": "[encoded data removed]",
            "text/plain": [
              "<Figure size 432x288 with 1 Axes>"
            ]
          },
          "metadata": {
            "tags": []
          }
        }
      ]
    },
    {
      "cell_type": "markdown",
      "metadata": {
        "id": "4odtNlItdJQ5",
        "colab_type": "text"
      },
      "source": [
        "We will choose the stock price within the first 50 min after the market is open as the observation window, which is used to determine the financial market sentiment."
      ]
    },
    {
      "cell_type": "markdown",
      "metadata": {
        "id": "sONrCUxyd6Vb",
        "colab_type": "text"
      },
      "source": [
        "我们会选取开盘后50分钟的股票指数作为观察窗口，以此判断当前市场情绪平稳度。"
      ]
    },
    {
      "cell_type": "code",
      "metadata": {
        "id": "yMtYLCrCyZl2",
        "colab_type": "code",
        "colab": {
          "base_uri": "https://localhost:8080/",
          "height": 281
        },
        "outputId": "676101af-81ce-4a5c-ccfd-9542dcb92a6d"
      },
      "source": [
        "# Pick up the stock price in the observation window\n",
        "sample_prices = prices[:OBSERVATION_WINDOW_SIZE]\n",
        "\n",
        "# Show diagram\n",
        "x = ['9:00', '9:10', '9:20', '9:30', '9:40']\n",
        "step = OBSERVATION_WINDOW_SIZE / len(x)\n",
        "x_loc = np.arange(0, OBSERVATION_WINDOW_SIZE, step=step)\n",
        "\n",
        "plt.title('Stock price diagram in observation window (50 min)')\n",
        "plt.plot(sample_prices)\n",
        "plt.xticks(x_loc, x)\n",
        "plt.show()"
      ],
      "execution_count": 3,
      "outputs": [
        {
          "output_type": "display_data",
          "data": {
            "image/png": "[encoded data removed]",
            "text/plain": [
              "<Figure size 432x288 with 1 Axes>"
            ]
          },
          "metadata": {
            "tags": []
          }
        }
      ]
    },
    {
      "cell_type": "markdown",
      "metadata": {
        "id": "IhTMpd3HW-dM",
        "colab_type": "text"
      },
      "source": [
        "### Financial Market Sentiment / 市场情绪平稳度"
      ]
    },
    {
      "cell_type": "markdown",
      "metadata": {
        "id": "vF3qYyOFenSK",
        "colab_type": "text"
      },
      "source": [
        "The maximum drawdown is used to measure the maximum decline from a historical peak, which is calculated in the formula below."
      ]
    },
    {
      "cell_type": "markdown",
      "metadata": {
        "id": "jszYYM1CfS3Q",
        "colab_type": "text"
      },
      "source": [
        "最大回撤用来衡量产品净值走到最低点时的收益率回撤幅度的最大值，其公式如下。"
      ]
    },
    {
      "cell_type": "markdown",
      "metadata": {
        "id": "aWp1Su_ggnWO",
        "colab_type": "text"
      },
      "source": [
        "$MaxDrawdown = \\max ( \\frac{P_{PrevMax} - P_{Current}}{P_{PrevMax}})$"
      ]
    },
    {
      "cell_type": "markdown",
      "metadata": {
        "id": "Q_FEwpEDh0xX",
        "colab_type": "text"
      },
      "source": [
        "We will then calculate the average maximum drawdown with the following formula."
      ]
    },
    {
      "cell_type": "markdown",
      "metadata": {
        "id": "sLNRPcKdmCpy",
        "colab_type": "text"
      },
      "source": [
        "我们用以下公式计算平均最大回撤。"
      ]
    },
    {
      "cell_type": "markdown",
      "metadata": {
        "id": "Gl0_YRLuiGNW",
        "colab_type": "text"
      },
      "source": [
        "$AvgMaxDrawdown = \\frac{1}{n}MaxDrawdown$"
      ]
    },
    {
      "cell_type": "code",
      "metadata": {
        "id": "A_lyGhOrb8Kh",
        "colab_type": "code",
        "colab": {
          "base_uri": "https://localhost:8080/",
          "height": 51
        },
        "outputId": "a0c4eca3-5b6b-4cdc-975d-02f776d972c8"
      },
      "source": [
        "import sys\n",
        "import pandas as pd\n",
        "\n",
        "def calculate_drawdown(prices):\n",
        "    \"\"\"\n",
        "    Calculate max drawdown of stock market\n",
        "    \"\"\"\n",
        "    prices = pd.Series(prices)\n",
        "    cummax = prices.cummax()\n",
        "    drawdown = (cummax - prices) / cummax\n",
        "    return drawdown\n",
        "\n",
        "# Calculate max drawdown\n",
        "drawdown = calculate_drawdown(sample_prices)\n",
        "max_drawdown = max(drawdown)\n",
        "print('Max drawdown: {}'.format(max_drawdown))\n",
        "\n",
        "# Calculate averate max drawdown\n",
        "avg_max_drawdown = max_drawdown / OBSERVATION_WINDOW_SIZE\n",
        "print('Average max drawdown: {}'.format(avg_max_drawdown))"
      ],
      "execution_count": 4,
      "outputs": [
        {
          "output_type": "stream",
          "text": [
            "Max drawdown: 0.07719140875004761\n",
            "Average max drawdown: 0.00038595704375023806\n"
          ],
          "name": "stdout"
        }
      ]
    },
    {
      "cell_type": "markdown",
      "metadata": {
        "id": "FShPhw4_iYGw",
        "colab_type": "text"
      },
      "source": [
        "Then, we will also calculate the maximum reverse drawdown, which measures the maximum increase from a historical valley floor."
      ]
    },
    {
      "cell_type": "markdown",
      "metadata": {
        "id": "Kfb7LeaDmIh_",
        "colab_type": "text"
      },
      "source": [
        "我们亦会通过计算最大反向回撤来衡量产品净值走到最高点时的收益率反向回撤幅度的最大值。"
      ]
    },
    {
      "cell_type": "markdown",
      "metadata": {
        "id": "s4tlbMX4i9YY",
        "colab_type": "text"
      },
      "source": [
        "$MaxReverseDrawdown = \\max ( \\frac{P_{Current} - P_{PrevMin}}{P_{PrevMin}})$"
      ]
    },
    {
      "cell_type": "markdown",
      "metadata": {
        "id": "wtsD3N4ZjQAi",
        "colab_type": "text"
      },
      "source": [
        "We will then calculate the average maximum reverse drawdown with the following formula."
      ]
    },
    {
      "cell_type": "markdown",
      "metadata": {
        "id": "scRtbRSdmbe1",
        "colab_type": "text"
      },
      "source": [
        "我们用以下公式计算平均最大反向回撤。"
      ]
    },
    {
      "cell_type": "markdown",
      "metadata": {
        "id": "EGygOE0WjVlA",
        "colab_type": "text"
      },
      "source": [
        "$AvgMaxReverseDrawdown = \\frac{1}{n}MaxReverseDrawdown$"
      ]
    },
    {
      "cell_type": "code",
      "metadata": {
        "id": "Yl82BxhhzJkI",
        "colab_type": "code",
        "colab": {
          "base_uri": "https://localhost:8080/",
          "height": 51
        },
        "outputId": "e9b6310f-d2d9-44db-e6a1-9b15aa606931"
      },
      "source": [
        "def calculate_reverse_drawdown(prices):\n",
        "    \"\"\"\n",
        "    Calculate reverse max drawdown of stock market\n",
        "    \"\"\"\n",
        "    prices = pd.Series(prices)\n",
        "    cummin = prices.cummin()\n",
        "    reverse_drawdown = (prices - cummin) / cummin\n",
        "    return reverse_drawdown\n",
        "\n",
        "reverse_drawdown = calculate_reverse_drawdown(sample_prices)\n",
        "max_reverse_drawdown = max(reverse_drawdown)\n",
        "print('Max reverse drawdown: {}'.format(max_reverse_drawdown))\n",
        "\n",
        "avg_max_reverse_drawdown = max_reverse_drawdown / OBSERVATION_WINDOW_SIZE\n",
        "print('Average max reverse drawdown: {}'.format(avg_max_reverse_drawdown))"
      ],
      "execution_count": 5,
      "outputs": [
        {
          "output_type": "stream",
          "text": [
            "Max reverse drawdown: 0.29385793539668315\n",
            "Average max reverse drawdown: 0.0014692896769834156\n"
          ],
          "name": "stdout"
        }
      ]
    },
    {
      "cell_type": "markdown",
      "metadata": {
        "id": "xkwCmju-jkKa",
        "colab_type": "text"
      },
      "source": [
        "Then, let's show the diagram with the above figures."
      ]
    },
    {
      "cell_type": "markdown",
      "metadata": {
        "id": "IWhz-JWQmmjm",
        "colab_type": "text"
      },
      "source": [
        "我们将观察窗口内的股票指数，股票指数各点回撤以及反向回撤用下图来表示。"
      ]
    },
    {
      "cell_type": "code",
      "metadata": {
        "id": "VptTsJqqakCH",
        "colab_type": "code",
        "colab": {
          "base_uri": "https://localhost:8080/",
          "height": 281
        },
        "outputId": "4164b752-1b6b-42b9-f5f9-c150aaa9ce10"
      },
      "source": [
        "_, ax1 = plt.subplots()\n",
        "\n",
        "line1 = ax1.plot(sample_prices, color='m', label = 'Stock price')\n",
        "\n",
        "ax2 = ax1.twinx()\n",
        "\n",
        "line2 = ax2.plot(drawdown, color='g', label = 'Drawdown')\n",
        "line3 = ax2.plot(reverse_drawdown, color='b', label = 'Reverse drawdown')\n",
        "\n",
        "lines = line1 + line2 + line3\n",
        "labels = [line.get_label() for line in lines]\n",
        "ax1.legend(lines, labels, loc=0)\n",
        "\n",
        "plt.title('Stock price diagram in observation window (50 min)')\n",
        "plt.xticks(x_loc, x)\n",
        "plt.show()"
      ],
      "execution_count": 6,
      "outputs": [
        {
          "output_type": "display_data",
          "data": {
            "image/png": "[encoded data removed]",
            "text/plain": [
              "<Figure size 432x288 with 2 Axes>"
            ]
          },
          "metadata": {
            "tags": []
          }
        }
      ]
    },
    {
      "cell_type": "markdown",
      "metadata": {
        "id": "VWipS5nWjoM1",
        "colab_type": "text"
      },
      "source": [
        "Next, we will need to calculate the financial market sentiment, which chooses the smaller one between the average maximum drawdown and average maximum reverse drawdown."
      ]
    },
    {
      "cell_type": "markdown",
      "metadata": {
        "id": "D0WTgOyCnARd",
        "colab_type": "text"
      },
      "source": [
        "其次，我们定义市场情绪平稳度为最大回撤均值和最大反向回撤均值中较小的值，该指标可以完美地描述一段时间序列的平稳度。"
      ]
    },
    {
      "cell_type": "markdown",
      "metadata": {
        "id": "FON1KhWBj5aJ",
        "colab_type": "text"
      },
      "source": [
        "$MarketSentiment = \\min (AvgMaxDrawdown, AvgMaxReverseDrawdown)$"
      ]
    },
    {
      "cell_type": "code",
      "metadata": {
        "id": "-gOy8odavAiI",
        "colab_type": "code",
        "colab": {
          "base_uri": "https://localhost:8080/",
          "height": 34
        },
        "outputId": "bac7993e-954f-4928-c552-8de1f91c577e"
      },
      "source": [
        "market_sentiment = min(avg_max_drawdown, avg_max_reverse_drawdown)\n",
        "print('Market sentiment: {}'.format(market_sentiment))"
      ],
      "execution_count": 7,
      "outputs": [
        {
          "output_type": "stream",
          "text": [
            "Market sentiment: 0.00038595704375023806\n"
          ],
          "name": "stdout"
        }
      ]
    },
    {
      "cell_type": "markdown",
      "metadata": {
        "id": "O1tGyU36Xami",
        "colab_type": "text"
      },
      "source": [
        "### Profit Calculation / 收益计算"
      ]
    },
    {
      "cell_type": "markdown",
      "metadata": {
        "id": "WT07NN_MkNAj",
        "colab_type": "text"
      },
      "source": [
        "Finally, we will calculate the profit based on the financial market sentiment. If the financial market sentiment is larger than the threshold, then we will not open a position, as the stock market is considered to be volatile. Otherwise, we will open a position as the stock market is stable enough. \n",
        "\n",
        "Then, we will compare the current price with the initial price when the market is open. If the current price is larger than the initial price, we can say that the stock price is increasing, and therefore we may choose to purchase the stock.\n",
        "\n",
        "Furthermore, if the stop-loss rate is larger than the threshold, we will sell the stock immediately to stop-loss. Otherwise, we will not sell the stock and calculate the profit until the transaction market is closed."
      ]
    },
    {
      "cell_type": "markdown",
      "metadata": {
        "id": "CTAPpgK_nOjt",
        "colab_type": "text"
      },
      "source": [
        "最后，我们基于市场情绪平稳度来计算收益。若市场情绪平稳度大于阈值，我们可认为当日行情较为震荡，故放弃开仓。反之，若市场情绪平稳度小于阈值，我们可认为当日行情较为平稳，故可以考虑开仓。\n",
        "\n",
        "其次，我们判断当天趋势的方向。若当前股票指数高于开盘价，即可预测当日趋势向上，在市场平稳的情况下可做多。反之，若当前股票指数低于开盘价，即可预测当日趋势向下，在市场平稳的情况下可做空。\n",
        "\n",
        "此外，若开盘之后损失超过止损阈值，则选择平仓止损，反之则一直持有仓位至收盘平仓。"
      ]
    },
    {
      "cell_type": "code",
      "metadata": {
        "id": "K5tZADSZxFk9",
        "colab_type": "code",
        "colab": {
          "base_uri": "https://localhost:8080/",
          "height": 85
        },
        "outputId": "469641aa-c17e-4f25-bd29-ca3dcc8eff8d"
      },
      "source": [
        "if market_sentiment >= MARKET_SENTIMENT_THRESHOLD:\n",
        "    print('The stock market is volatile, therefore will not open a position')\n",
        "else:\n",
        "    print('The stock market is stable')\n",
        "    initial_price = sample_prices[0]\n",
        "    current_price = sample_prices[OBSERVATION_WINDOW_SIZE - 1]\n",
        "    print('Initial price: {}, current price: {}'.format(initial_price, current_price))\n",
        "\n",
        "    if initial_price < current_price:\n",
        "        \n",
        "        print('The stock price is increasing. Let\\'s purchase the stock.')\n",
        "        \n",
        "        # Get stock price after the observation window\n",
        "        prices_after_window = prices[OBSERVATION_WINDOW_SIZE:]\n",
        "        profit = prices_after_window[len(prices_after_window) - 1] - current_price\n",
        "\n",
        "        for price in prices_after_window:\n",
        "            if price < current_price:\n",
        "                loss = current_price - price\n",
        "                loss_rate = loss / current_price\n",
        "                if loss_rate >= STOP_LOSS_THRESHOLD:\n",
        "                    print('Stop loss by selling the stock. Loss: {}, Loss Rate: {}'.format(loss, loss_rate))\n",
        "                    profit = price - current_price\n",
        "                    break\n",
        "\n",
        "        print('Total profit: {}'.format(profit))"
      ],
      "execution_count": 8,
      "outputs": [
        {
          "output_type": "stream",
          "text": [
            "The stock market is stable\n",
            "Initial price: 101.62434536366324, current price: 121.3377629695897\n",
            "The stock price is increasing. Let's purchase the stock.\n",
            "Total profit: 17.47471319001201\n"
          ],
          "name": "stdout"
        }
      ]
    },
    {
      "cell_type": "markdown",
      "metadata": {
        "id": "dST7VcL1ffQY",
        "colab_type": "text"
      },
      "source": [
        "## Conclusion / 结论"
      ]
    },
    {
      "cell_type": "markdown",
      "metadata": {
        "id": "nAe6lH8Pfgtj",
        "colab_type": "text"
      },
      "source": [
        "To put it in a nutshell, we use the minimum value of the average maximum drawdown and the average maximum reverse drawdown to create a quantitative trading model based on financial market sentiment."
      ]
    },
    {
      "cell_type": "markdown",
      "metadata": {
        "id": "VyFRQEQ1rZW_",
        "colab_type": "text"
      },
      "source": [
        "我们用最大回撤均值和最大反向回撤均值中较小的值作为市场情绪平稳度，从而计算股票指数收益。"
      ]
    }
  ]
}